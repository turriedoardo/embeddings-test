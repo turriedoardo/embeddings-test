{
 "cells": [
  {
   "cell_type": "code",
   "execution_count": 2,
   "metadata": {},
   "outputs": [],
   "source": [
    "import os\n",
    "import openai\n",
    "import pandas as pd\n",
    "import scipy\n",
    "from dotenv import load_dotenv\n",
    "from langchain.embeddings import OpenAIEmbeddings\n",
    "from openai.embeddings_utils import cosine_similarity\n",
    "\n",
    "# Load environment variables (contains OPENAI_API_BASE and OPENAI_API_KEY)\n",
    "load_dotenv(override=True)\n",
    "\n",
    "# Configure Azure OpenAI Service API\n",
    "openai.api_type = \"azure\"\n",
    "openai.api_version = \"2022-12-01\"\n",
    "openai.api_base = os.getenv('OPENAI_API_BASE') # looks like https://********.openai.azure.com/\n",
    "openai.api_key = os.getenv(\"OPENAI_API_KEY\")\n",
    "\n",
    "# Initialize embedding model\n",
    "embeddings = OpenAIEmbeddings(model = 'text-embedding-ada-002', deployment = 'text-embedding-ada-002',  chunk_size=1)"
   ]
  },
  {
   "attachments": {},
   "cell_type": "markdown",
   "metadata": {},
   "source": [
    "# Embeddings vector explanation"
   ]
  },
  {
   "cell_type": "code",
   "execution_count": 3,
   "metadata": {},
   "outputs": [
    {
     "name": "stdout",
     "output_type": "stream",
     "text": [
      "King -> lunghezza stringa: 4 - lunghezza vettore: 1536\n",
      "man -> lunghezza stringa: 3 - lunghezza vettore: 1536\n",
      "woman -> lunghezza stringa: 5 - lunghezza vettore: 1536\n"
     ]
    }
   ],
   "source": [
    "text = \"King\"\n",
    "\n",
    "def printEmbeddings(iText: str):\n",
    "    # Embed a single word\n",
    "    e = embeddings.embed_query(text)\n",
    "    #print(e)\n",
    "    print(f'{iText} -> lunghezza stringa: {len(iText)} - lunghezza vettore: {len(e)}')\n",
    "\n",
    "printEmbeddings(\"King\")\n",
    "printEmbeddings(\"man\")\n",
    "printEmbeddings(\"woman\")"
   ]
  },
  {
   "cell_type": "code",
   "execution_count": 4,
   "metadata": {},
   "outputs": [],
   "source": [
    "#Note: The openai-python library support for Azure OpenAI is in preview.\n",
    "import os\n",
    "import openai\n",
    "openai.api_type = \"azure\"\n",
    "openai.api_base = \"https://openai-test-model.openai.azure.com/\"\n",
    "openai.api_version = \"2022-12-01\"\n",
    "openai.api_key = os.getenv(\"OPENAI_API_KEY\")\n",
    "\n",
    "response = openai.Completion.create(\n",
    "  engine=\"davinci\",\n",
    "  prompt=\"Classify the following news headline into 1 of the following categories: Business, Tech, Politics, Sport, Entertainment\\n\\nHeadline 1: Donna Steffensen Is Cooking Up a New Kind of Perfection. The Internet's most beloved cooking guru has a buzzy new book and a fresh new perspective\\nCategory: Entertainment\\n\\nHeadline 2: Major Retailer Announces Plans to Close Over 100 Stores\\nCategory:\",\n",
    "  temperature=0,\n",
    "  max_tokens=60,\n",
    "  top_p=1,\n",
    "  frequency_penalty=0,\n",
    "  presence_penalty=0,\n",
    "  best_of=1,\n",
    "  stop=None)"
   ]
  },
  {
   "attachments": {},
   "cell_type": "markdown",
   "metadata": {},
   "source": [
    "# Embeddings with words"
   ]
  },
  {
   "cell_type": "code",
   "execution_count": 5,
   "metadata": {},
   "outputs": [
    {
     "name": "stdout",
     "output_type": "stream",
     "text": [
      "Somiglianza tra 'ragazzo' e 'cane': 0.8019525443639803\n",
      "Somiglianza tra 'ragazzo' e 'bambino': 0.8620923331020662\n",
      "Somiglianza tra 'ragazzo' e 'ragazza': 0.9371455305554139\n"
     ]
    }
   ],
   "source": [
    "def get_similarity_from_text(text1, text2, varNameText1: str = \"\", varNameText2: str = \"\", printText: bool = True):\n",
    "    e1 = embeddings.embed_query(text1)\n",
    "    e2 = embeddings.embed_query(text2)\n",
    "    s = cosine_similarity(e1, e2)\n",
    "\n",
    "    print(f\"Somiglianza tra '{text1 if printText else varNameText1}' e '{text2 if printText else varNameText2}': {s}\")\n",
    "\n",
    "\n",
    "get_similarity_from_text(\"ragazzo\", \"cane\")\n",
    "get_similarity_from_text(\"ragazzo\", \"bambino\")\n",
    "get_similarity_from_text(\"ragazzo\", \"ragazza\")\n"
   ]
  },
  {
   "attachments": {},
   "cell_type": "markdown",
   "metadata": {},
   "source": [
    "# Python libraries example "
   ]
  },
  {
   "cell_type": "code",
   "execution_count": 6,
   "metadata": {},
   "outputs": [
    {
     "name": "stdout",
     "output_type": "stream",
     "text": [
      "\n",
      "DataFrame popolato\n"
     ]
    }
   ],
   "source": [
    "import pandas as pd\n",
    "\n",
    "df = pd.read_csv('data/libraries_dataset.csv', header=0, sep=';')\n",
    "\n",
    "print('')\n",
    "\n",
    "# only keep library_name and description column\n",
    "df = df[['library_name', 'description']]\n",
    "\n",
    "# add embedding column with embedding\n",
    "df['embedding'] = df['description'].apply(lambda x: embeddings.embed_query(x))\n",
    "\n",
    "print('DataFrame popolato')"
   ]
  },
  {
   "attachments": {},
   "cell_type": "markdown",
   "metadata": {},
   "source": [
    "# Python libraries example "
   ]
  },
  {
   "cell_type": "code",
   "execution_count": 7,
   "metadata": {},
   "outputs": [
    {
     "data": {
      "text/html": [
       "<div>\n",
       "<style scoped>\n",
       "    .dataframe tbody tr th:only-of-type {\n",
       "        vertical-align: middle;\n",
       "    }\n",
       "\n",
       "    .dataframe tbody tr th {\n",
       "        vertical-align: top;\n",
       "    }\n",
       "\n",
       "    .dataframe thead th {\n",
       "        text-align: right;\n",
       "    }\n",
       "</style>\n",
       "<table border=\"1\" class=\"dataframe\">\n",
       "  <thead>\n",
       "    <tr style=\"text-align: right;\">\n",
       "      <th></th>\n",
       "      <th>library_name</th>\n",
       "      <th>embedding</th>\n",
       "    </tr>\n",
       "  </thead>\n",
       "  <tbody>\n",
       "    <tr>\n",
       "      <th>9</th>\n",
       "      <td>BeautifulSoup</td>\n",
       "      <td>0.819023</td>\n",
       "    </tr>\n",
       "    <tr>\n",
       "      <th>8</th>\n",
       "      <td>Scrapy</td>\n",
       "      <td>0.817715</td>\n",
       "    </tr>\n",
       "    <tr>\n",
       "      <th>6</th>\n",
       "      <td>Scikit-learn</td>\n",
       "      <td>0.761493</td>\n",
       "    </tr>\n",
       "    <tr>\n",
       "      <th>3</th>\n",
       "      <td>Pandas</td>\n",
       "      <td>0.758129</td>\n",
       "    </tr>\n",
       "    <tr>\n",
       "      <th>7</th>\n",
       "      <td>PyTorch</td>\n",
       "      <td>0.755811</td>\n",
       "    </tr>\n",
       "    <tr>\n",
       "      <th>0</th>\n",
       "      <td>TensorFlow</td>\n",
       "      <td>0.755700</td>\n",
       "    </tr>\n",
       "    <tr>\n",
       "      <th>1</th>\n",
       "      <td>SciPy</td>\n",
       "      <td>0.746985</td>\n",
       "    </tr>\n",
       "    <tr>\n",
       "      <th>4</th>\n",
       "      <td>Matplotlib</td>\n",
       "      <td>0.724728</td>\n",
       "    </tr>\n",
       "    <tr>\n",
       "      <th>5</th>\n",
       "      <td>Keras</td>\n",
       "      <td>0.711553</td>\n",
       "    </tr>\n",
       "    <tr>\n",
       "      <th>2</th>\n",
       "      <td>Numpy</td>\n",
       "      <td>0.703839</td>\n",
       "    </tr>\n",
       "  </tbody>\n",
       "</table>\n",
       "</div>"
      ],
      "text/plain": [
       "    library_name  embedding\n",
       "9  BeautifulSoup   0.819023\n",
       "8         Scrapy   0.817715\n",
       "6   Scikit-learn   0.761493\n",
       "3         Pandas   0.758129\n",
       "7        PyTorch   0.755811\n",
       "0     TensorFlow   0.755700\n",
       "1          SciPy   0.746985\n",
       "4     Matplotlib   0.724728\n",
       "5          Keras   0.711553\n",
       "2          Numpy   0.703839"
      ]
     },
     "execution_count": 7,
     "metadata": {},
     "output_type": "execute_result"
    }
   ],
   "source": [
    "# Let's make a search on libraries df based on a particular need\n",
    "request = \"I need a python library to parse html code retrived with an HTTP request\"\n",
    "\n",
    "# get embedding for request\n",
    "request_embedding = embeddings.embed_query(request)\n",
    "\n",
    "# get cosine similarity between request and all libraries descriptions\n",
    "similarities = df['embedding'].apply(lambda x: cosine_similarity(x, request_embedding))\n",
    "\n",
    "# combine library_name from df and similiaries and sort ascending by similarity\n",
    "recommendations = pd.concat([df['library_name'], similarities], axis=1).sort_values(by='embedding', ascending=False)\n",
    "recommendations.head(10)"
   ]
  },
  {
   "attachments": {},
   "cell_type": "markdown",
   "metadata": {},
   "source": [
    "# Confronto diagnosi"
   ]
  },
  {
   "cell_type": "code",
   "execution_count": 8,
   "metadata": {},
   "outputs": [
    {
     "name": "stdout",
     "output_type": "stream",
     "text": [
      "Somiglianza tra 'case1' e 'case2': 0.8302775799441025\n",
      "Somiglianza tra 'case2' e 'case3': 0.9059029085686701\n"
     ]
    }
   ],
   "source": [
    "case1 = \"\"\"Paziente: Maschio, 45 anni\n",
    "Descrizione dei sintomi: Febbre persistente, affaticamento, tosse secca, perdita di peso involontaria e sudorazione notturna.\n",
    "Diagnosi: Dopo un'attenta valutazione dei sintomi riportati dal paziente, esami fisici e risultati di test di laboratorio, la diagnosi principale è sospetta tubercolosi polmonare.\n",
    "Motivazione della diagnosi: La febbre persistente, l'affaticamento, la tosse secca e la sudorazione notturna sono sintomi tipici della tubercolosi polmonare. La perdita di peso involontaria è un segno comune nelle fasi avanzate della malattia. La tubercolosi polmonare è una condizione infettiva causata dal batterio Mycobacterium tuberculosis.\n",
    "Ulteriori indagini: Saranno necessari ulteriori esami per confermare la diagnosi. Si raccomanda una radiografia del torace, una coltura del muco bronchiale e un test cutaneo alla tubercolina per valutare la presenza dell'infezione.\n",
    "Piano di trattamento: Il paziente dovrà iniziare immediatamente una terapia antibiotica specifica per la tubercolosi polmonare. Sarà necessario un trattamento di lunga durata, generalmente composto da una combinazione di farmaci antibatterici. Il paziente sarà monitorato regolarmente per valutare la risposta al trattamento e gestire eventuali effetti collaterali dei farmaci.\n",
    "Follow-up: Il paziente dovrà essere sottoposto a controlli periodici per monitorare l'efficacia del trattamento e l'eventuale comparsa di complicanze. Sarà importante mantenere uno stretto contatto con il medico curante e seguire attentamente le istruzioni riguardanti l'assunzione dei farmaci e il controllo degli effetti collaterali.\"\"\"\n",
    "\n",
    "case2 = \"\"\"Paziente: Femmina, 35 anni\n",
    "Descrizione dei sintomi: Dolore addominale acuto, localizzato nella parte inferiore destra dell'addome, nausea e lieve febbre.\n",
    "Diagnosi: Dopo una valutazione dei sintomi e un esame fisico, la diagnosi principale è una possibile appendicite acuta.\n",
    "Motivazione della diagnosi: Il dolore addominale acuto, localizzato nella parte inferiore destra, è un sintomo tipico dell'appendicite acuta. La nausea e la lieve febbre possono essere associati a un'infiammazione dell'appendice.\n",
    "Ulteriori indagini: Saranno necessari ulteriori esami per confermare la diagnosi. Si consiglia una serie di esami del sangue per valutare i livelli di globuli bianchi e una ecografia addominale per valutare la presenza di infiammazione dell'appendice.\n",
    "Piano di trattamento: Il paziente dovrà essere sottoposto a un intervento chirurgico d'urgenza per rimuovere l'appendice infiammata (appendicectomia). Questa procedura viene generalmente eseguita laparoscopicamente, consentendo una rapida ripresa postoperatoria.\n",
    "Follow-up: Dopo l'intervento chirurgico, il paziente dovrà seguire le istruzioni del medico per la gestione del dolore, la cura delle ferite e la ripresa delle normali attività. Saranno programmati appuntamenti di follow-up per valutare la guarigione e risolvere eventuali complicanze postoperatorie.\"\"\"\n",
    "\n",
    "case3 = \"\"\"Paziente: Maschio, 45 anni\n",
    "Descrizione dei sintomi: Dolore persistente all'addome superiore, affaticamento, perdita di appetito, lieve nausea e senso di gonfiore addominale.\n",
    "Diagnosi: Dopo una valutazione dei sintomi riportati dalla paziente, esami fisici e risultati di test di laboratorio, la diagnosi principale è sospetta gastrite cronica.\n",
    "Motivazione della diagnosi: Il dolore persistente all'addome superiore, la perdita di appetito, la lieve nausea e il senso di gonfiore addominale sono sintomi comuni della gastrite cronica. Questa condizione è caratterizzata da un'infiammazione della mucosa dello stomaco.\n",
    "Ulteriori indagini: Saranno necessari ulteriori esami per confermare la diagnosi. Si raccomanda una gastroscopia per visualizzare direttamente la mucosa gastrica e prelevare campioni per l'analisi dei tessuti.\n",
    "Piano di trattamento: Il paziente dovrà seguire una dieta bland-a e evitare cibi piccanti, alcolici e caffeina. Sarà prescritta una terapia farmacologica per ridurre l'infiammazione dello stomaco e alleviare i sintomi. In alcuni casi, potrebbe essere necessario un trattamento a lungo termine.\n",
    "\n",
    "Follow-up: Il paziente dovrà effettuare controlli periodici per monitorare la risposta al trattamento e apportare eventuali modifiche alla terapia. Sarà importante seguire attentamente le indicazioni del medico curante e adottare uno stile di vita sano, evitando fattori che possono aggravare la gastrite cronica.\"\"\"\n",
    "\n",
    "\n",
    "get_similarity_from_text(case1, case2, \"case1\", \"case2\", False)\n",
    "get_similarity_from_text(case2, case3, \"case2\", \"case3\", False)"
   ]
  }
 ],
 "metadata": {
  "kernelspec": {
   "display_name": "embeddings-venv",
   "language": "python",
   "name": "python3"
  },
  "language_info": {
   "codemirror_mode": {
    "name": "ipython",
    "version": 3
   },
   "file_extension": ".py",
   "mimetype": "text/x-python",
   "name": "python",
   "nbconvert_exporter": "python",
   "pygments_lexer": "ipython3",
   "version": "3.10.11"
  },
  "orig_nbformat": 4
 },
 "nbformat": 4,
 "nbformat_minor": 2
}
