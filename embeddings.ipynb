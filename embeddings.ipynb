{
 "cells": [
  {
   "cell_type": "code",
   "execution_count": null,
   "metadata": {},
   "outputs": [],
   "source": [
    "import os\n",
    "import openai\n",
    "import pandas as pd\n",
    "import scipy\n",
    "from dotenv import load_dotenv\n",
    "from langchain.embeddings import OpenAIEmbeddings\n",
    "from openai.embeddings_utils import cosine_similarity\n",
    "\n",
    "# Load environment variables (contains OPENAI_API_BASE and OPENAI_API_KEY)\n",
    "load_dotenv(override=True)\n",
    "\n",
    "# Configure Azure OpenAI Service API\n",
    "openai.api_type = \"azure\"\n",
    "openai.api_version = \"2022-12-01\"\n",
    "openai.api_base = os.getenv('OPENAI_API_BASE') # looks like https://********.openai.azure.com/\n",
    "openai.api_key = os.getenv(\"OPENAI_API_KEY\")\n",
    "\n",
    "# Initialize embedding model\n",
    "embeddings = OpenAIEmbeddings(model = 'text-embedding-ada-002', deployment = 'text-embedding-ada-002',  chunk_size=1)\n",
    "print('test')"
   ]
  },
  {
   "cell_type": "code",
   "execution_count": null,
   "metadata": {},
   "outputs": [],
   "source": [
    "text = \"This is just a test\"\n",
    "\n",
    "# Embed a single document\n",
    "e = embeddings.embed_query(text)\n",
    "\n",
    "print(e)\n",
    "print(len(e))"
   ]
  },
  {
   "cell_type": "code",
   "execution_count": null,
   "metadata": {},
   "outputs": [],
   "source": [
    "def get_similarity_from_text(text1, text2):\n",
    "    e1 = embeddings.embed_query(text1)\n",
    "    e2 = embeddings.embed_query(text2)\n",
    "    s = cosine_similarity(e1, e2)\n",
    "    print(f\"Somiglianza tra '{text1}' e '{text2}': {s}\")\n",
    "\n",
    "get_similarity_from_text(\"ragazzo\", \"ragazza\")\n",
    "get_similarity_from_text(\"ragazzo\", \"bambino\")\n",
    "get_similarity_from_text(\"ragazzo\", \"donna\")\n",
    "\n",
    "get_similarity_from_text(\"Italia\", \"Roma\")\n",
    "get_similarity_from_text(\"Switzerland \", \"Zurich\")\n",
    "get_similarity_from_text(\"California\", \"Los Angeles\")\n"
   ]
  },
  {
   "cell_type": "code",
   "execution_count": null,
   "metadata": {},
   "outputs": [],
   "source": [
    "story1 = \"Once upon a time, there was a little girl named Sarah. She lived with her family in a small village near the woods. Every morning Sarah would wake up early, get dressed, and go outside to play.\"\n",
    "story2 = \"One day, while Sarah was playing in the woods, she noticed a small rabbit hopping around in the grass. She decided to follow it, hoping to see where it would go. The rabbit kept hopping until it reached the entrance of a small cave.\"\n",
    "insurance_clause = \"In the event of any losses or damages incurred by either party due to unforeseen circumstances, both parties agree to be liable for their respective liabilities and hold the other harmless for any and all damages and losses sustained.\"\n",
    "\n",
    "get_similarity_from_text(story1, story2)\n",
    "get_similarity_from_text(story1, insurance_clause)"
   ]
  },
  {
   "cell_type": "code",
   "execution_count": null,
   "metadata": {},
   "outputs": [],
   "source": [
    "import pandas as pd\n",
    "\n",
    "df = pd.read_csv('data/libraries_dataset.csv', header=0, sep=';')\n",
    "\n",
    "print('none')\n",
    "\n",
    "# only keep library_name and description column\n",
    "df = df[['library_name', 'description']]\n",
    "\n",
    "# add embedding column with embedding\n",
    "df['embedding'] = df['description'].apply(lambda x: embeddings.embed_query(x))\n",
    "\n",
    "df.head()"
   ]
  },
  {
   "cell_type": "code",
   "execution_count": null,
   "metadata": {},
   "outputs": [],
   "source": [
    "# Let's pick a movie that exists in df, keeping in mind we only have 500 movies in it!\n",
    "request = \"I need a python library to parse html code retrived with an HTTP request\"\n",
    "# \"I need a python library to make graphs and visualizations\" \n",
    "# \"I need a python library to parse html code retrived with an HTTP request\"\n",
    "\n",
    "# get embedding for movie\n",
    "# e = df[df['library_name'] == request]['embedding'].values[0]\n",
    "\n",
    "# get embedding for request\n",
    "request_embedding = embeddings.embed_query(request)\n",
    "\n",
    "# get cosine similarity between movie and all other movies and sort ascending\n",
    "similarities = df['embedding'].apply(lambda x: cosine_similarity(x, request_embedding))\n",
    "\n",
    "# combine library_name from df and similiaries and sort ascending by similarity\n",
    "recommendations = pd.concat([df['library_name'], similarities], axis=1).sort_values(by='embedding', ascending=False)\n",
    "recommendations.head(10)"
   ]
  },
  {
   "cell_type": "code",
   "execution_count": null,
   "metadata": {},
   "outputs": [],
   "source": [
    "import pandas as pd\n",
    "\n",
    "# generate an array with different city names\n",
    "cities = ['Jakarta', 'Hong Kong', 'Tokyo', 'Bangkok', 'Shanghai', 'Ho Chi Minh City', 'Beijing',\n",
    "          'New York', 'Los Angeles', 'San Francisco', 'Chicago',\n",
    "          'Paris', 'Rome', 'Barcelona', 'Madrid', 'Amsterdam', 'Berlin']\n",
    "\n",
    "cities_df = pd.DataFrame({\"city\": cities})\n",
    "\n",
    "# generate embeddings for all cities\n",
    "cities_df['cities_embeddings'] = [embeddings.embed_query(city) for city in cities]\n"
   ]
  },
  {
   "cell_type": "code",
   "execution_count": null,
   "metadata": {},
   "outputs": [],
   "source": [
    "# use PCA to reduce dimensionality to 3\n",
    "from sklearn.decomposition import PCA\n",
    "\n",
    "pca = PCA(n_components=3)\n",
    "t = pca.fit_transform(cities_df['cities_embeddings'].tolist())\n"
   ]
  },
  {
   "cell_type": "code",
   "execution_count": null,
   "metadata": {},
   "outputs": [],
   "source": [
    "# draw t in a scatter plot and put names on each point\n",
    "import matplotlib.pyplot as plt\n",
    "fig = plt.figure(figsize=(10,10))\n",
    "ax = fig.add_subplot(111, projection='3d')\n",
    "ax.scatter(t[:,0], t[:,1], t[:,2])\n",
    "for i, txt in enumerate(cities):\n",
    "    ax.text(t[i,0], t[i,1], t[i,2], txt)\n",
    "plt.show()\n"
   ]
  }
 ],
 "metadata": {
  "kernelspec": {
   "display_name": "embeddings-venv",
   "language": "python",
   "name": "python3"
  },
  "language_info": {
   "codemirror_mode": {
    "name": "ipython",
    "version": 3
   },
   "file_extension": ".py",
   "mimetype": "text/x-python",
   "name": "python",
   "nbconvert_exporter": "python",
   "pygments_lexer": "ipython3",
   "version": "3.10.11"
  },
  "orig_nbformat": 4
 },
 "nbformat": 4,
 "nbformat_minor": 2
}
